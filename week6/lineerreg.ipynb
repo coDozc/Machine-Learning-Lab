{
 "cells": [
  {
   "cell_type": "code",
   "execution_count": 1,
   "id": "c8a3bd3d-63cd-476f-bb34-a8d58f24aa9b",
   "metadata": {},
   "outputs": [],
   "source": [
    "import pandas as pd\n",
    "import matplotlib.pyplot as plt\n",
    "import numpy as np"
   ]
  },
  {
   "cell_type": "code",
   "execution_count": 12,
   "id": "5fe365a9-baf4-4e86-b04c-7fe6125d35d7",
   "metadata": {},
   "outputs": [
    {
     "data": {
      "text/html": [
       "<div>\n",
       "<style scoped>\n",
       "    .dataframe tbody tr th:only-of-type {\n",
       "        vertical-align: middle;\n",
       "    }\n",
       "\n",
       "    .dataframe tbody tr th {\n",
       "        vertical-align: top;\n",
       "    }\n",
       "\n",
       "    .dataframe thead th {\n",
       "        text-align: right;\n",
       "    }\n",
       "</style>\n",
       "<table border=\"1\" class=\"dataframe\">\n",
       "  <thead>\n",
       "    <tr style=\"text-align: right;\">\n",
       "      <th></th>\n",
       "      <th>Unnamed: 0</th>\n",
       "      <th>YearsExperience</th>\n",
       "      <th>Salary</th>\n",
       "    </tr>\n",
       "  </thead>\n",
       "  <tbody>\n",
       "    <tr>\n",
       "      <th>0</th>\n",
       "      <td>0</td>\n",
       "      <td>1.2</td>\n",
       "      <td>39344.0</td>\n",
       "    </tr>\n",
       "    <tr>\n",
       "      <th>1</th>\n",
       "      <td>1</td>\n",
       "      <td>1.4</td>\n",
       "      <td>46206.0</td>\n",
       "    </tr>\n",
       "    <tr>\n",
       "      <th>2</th>\n",
       "      <td>2</td>\n",
       "      <td>1.6</td>\n",
       "      <td>37732.0</td>\n",
       "    </tr>\n",
       "    <tr>\n",
       "      <th>3</th>\n",
       "      <td>3</td>\n",
       "      <td>2.1</td>\n",
       "      <td>43526.0</td>\n",
       "    </tr>\n",
       "    <tr>\n",
       "      <th>4</th>\n",
       "      <td>4</td>\n",
       "      <td>2.3</td>\n",
       "      <td>39892.0</td>\n",
       "    </tr>\n",
       "  </tbody>\n",
       "</table>\n",
       "</div>"
      ],
      "text/plain": [
       "   Unnamed: 0  YearsExperience   Salary\n",
       "0           0              1.2  39344.0\n",
       "1           1              1.4  46206.0\n",
       "2           2              1.6  37732.0\n",
       "3           3              2.1  43526.0\n",
       "4           4              2.3  39892.0"
      ]
     },
     "execution_count": 12,
     "metadata": {},
     "output_type": "execute_result"
    }
   ],
   "source": [
    "df = pd.read_csv(r\"C:\\Users\\ozcan\\OneDrive\\Masaüstü\\MLodev\\Salary_dataset.csv\")\n",
    "df.head()"
   ]
  },
  {
   "cell_type": "code",
   "execution_count": 13,
   "id": "21987fa9",
   "metadata": {},
   "outputs": [
    {
     "name": "stdout",
     "output_type": "stream",
     "text": [
      "Index(['Unnamed: 0', 'YearsExperience', 'Salary'], dtype='object')\n"
     ]
    }
   ],
   "source": [
    "print(df.columns)"
   ]
  },
  {
   "cell_type": "code",
   "execution_count": 14,
   "id": "c7ef0324-241f-4e0a-b237-3c3f6d23f7d6",
   "metadata": {},
   "outputs": [
    {
     "data": {
      "image/png": "[encoded data removed]",
      "text/plain": [
       "<Figure size 432x288 with 1 Axes>"
      ]
     },
     "metadata": {
      "needs_background": "light"
     },
     "output_type": "display_data"
    }
   ],
   "source": [
    "plt.scatter(df.YearsExperience, df.Salary)\n",
    "plt.xlabel(\"YearsExperience\")\n",
    "plt.ylabel(\"Salary\")\n",
    "plt.show()"
   ]
  },
  {
   "cell_type": "code",
   "execution_count": 16,
   "id": "038d003e-3abd-4a1a-a53a-4a552a73a3d1",
   "metadata": {},
   "outputs": [],
   "source": [
    "x = df.YearsExperience.values"
   ]
  },
  {
   "cell_type": "code",
   "execution_count": 17,
   "id": "09825de5-f39d-4013-b36a-3bb5f2b0ac7d",
   "metadata": {},
   "outputs": [
    {
     "data": {
      "text/plain": [
       "(30,)"
      ]
     },
     "execution_count": 17,
     "metadata": {},
     "output_type": "execute_result"
    }
   ],
   "source": [
    "x.shape"
   ]
  },
  {
   "cell_type": "code",
   "execution_count": 19,
   "id": "c08b66e0-1707-4f99-bf2d-57f536de45c8",
   "metadata": {},
   "outputs": [],
   "source": [
    "x = df.YearsExperience.values.reshape(-1,1)\n",
    "y = df.Salary.values.reshape(-1,1)"
   ]
  },
  {
   "cell_type": "code",
   "execution_count": 20,
   "id": "4c11dd1b-a2b3-4e2b-a43b-4a099f15a42f",
   "metadata": {},
   "outputs": [
    {
     "data": {
      "text/plain": [
       "LinearRegression()"
      ]
     },
     "execution_count": 20,
     "metadata": {},
     "output_type": "execute_result"
    }
   ],
   "source": [
    "from sklearn.linear_model import LinearRegression\n",
    "\n",
    "linear_reg = LinearRegression()\n",
    "linear_reg.fit(x,y)"
   ]
  },
  {
   "cell_type": "code",
   "execution_count": 21,
   "id": "42a38853-4bb9-47be-8069-1d60369bd06f",
   "metadata": {},
   "outputs": [
    {
     "name": "stdout",
     "output_type": "stream",
     "text": [
      "b0:  [[24848.20396652]]\n"
     ]
    }
   ],
   "source": [
    "import numpy as np\n",
    "\n",
    "b0 = linear_reg.predict([[0]])\n",
    "print(\"b0: \",b0)"
   ]
  },
  {
   "cell_type": "code",
   "execution_count": 22,
   "id": "2eb3f71d-b7a8-4577-824e-c65883e6d606",
   "metadata": {},
   "outputs": [
    {
     "name": "stdout",
     "output_type": "stream",
     "text": [
      "b0:  [24848.20396652]\n"
     ]
    }
   ],
   "source": [
    "b0_ = linear_reg.intercept_\n",
    "print(\"b0: \",b0_) "
   ]
  },
  {
   "cell_type": "code",
   "execution_count": 23,
   "id": "aca79341-67b1-45bf-8807-0b88cf652f54",
   "metadata": {},
   "outputs": [
    {
     "name": "stdout",
     "output_type": "stream",
     "text": [
      "b1:  [[9449.96232146]]\n"
     ]
    }
   ],
   "source": [
    "b1 = linear_reg.coef_ \n",
    "print(\"b1: \",b1) "
   ]
  },
  {
   "cell_type": "code",
   "execution_count": 24,
   "id": "27830d47-1f08-48d1-ac21-3b2ef4a8687d",
   "metadata": {},
   "outputs": [
    {
     "name": "stdout",
     "output_type": "stream",
     "text": [
      "14181\n"
     ]
    }
   ],
   "source": [
    "new_salary = 1663 + 1138*11\n",
    "print(new_salary)"
   ]
  },
  {
   "cell_type": "code",
   "execution_count": 25,
   "id": "5ec0723b-6743-4faa-927d-f1c2eb352d6c",
   "metadata": {},
   "outputs": [
    {
     "name": "stdout",
     "output_type": "stream",
     "text": [
      "b11:  [[128797.78950253]]\n"
     ]
    }
   ],
   "source": [
    "b11 = linear_reg.predict([[11]])\n",
    "print(\"b11: \",b11)"
   ]
  },
  {
   "cell_type": "code",
   "execution_count": 26,
   "id": "c1eb1ff4-b4a2-4116-831f-daafb1c92ebb",
   "metadata": {},
   "outputs": [],
   "source": [
    "y_head = linear_reg.predict(x)"
   ]
  },
  {
   "cell_type": "code",
   "execution_count": 27,
   "id": "e0708be4-45bd-4cb0-ad8b-b9cc199a5721",
   "metadata": {},
   "outputs": [
    {
     "data": {
      "image/png": "[encoded data removed]",
      "text/plain": [
       "<Figure size 432x288 with 1 Axes>"
      ]
     },
     "metadata": {
      "needs_background": "light"
     },
     "output_type": "display_data"
    }
   ],
   "source": [
    "plt.plot(x, y_head, color=\"red\")\n",
    "plt.scatter(x,y)\n",
    "plt.show()"
   ]
  },
  {
   "cell_type": "code",
   "execution_count": 28,
   "id": "a19ddaad-a680-4348-98f3-e58ba8932a9c",
   "metadata": {},
   "outputs": [
    {
     "name": "stdout",
     "output_type": "stream",
     "text": [
      "R Square Score:  0.9569566641435086\n"
     ]
    }
   ],
   "source": [
    "from sklearn.metrics import r2_score\n",
    "print(\"R Square Score: \",r2_score(y,y_head))"
   ]
  },
  {
   "cell_type": "code",
   "execution_count": 29,
   "id": "f0eb3045-6ce8-4aa1-86a3-f4ccfc5a6984",
   "metadata": {},
   "outputs": [
    {
     "name": "stdout",
     "output_type": "stream",
     "text": [
      "Mean Squared Error:  31270951.72228097\n"
     ]
    }
   ],
   "source": [
    "from sklearn.metrics import mean_squared_error\n",
    "print(\"Mean Squared Error: \",mean_squared_error(y,y_head))"
   ]
  },
  {
   "cell_type": "code",
   "execution_count": 30,
   "id": "6e1bfc7f-1bf9-4bcc-9377-919233d6f3dc",
   "metadata": {},
   "outputs": [
    {
     "name": "stdout",
     "output_type": "stream",
     "text": [
      "Mean Squared Error:  31270951.72228097\n"
     ]
    }
   ],
   "source": [
    "MSE = np.square(np.subtract(y,y_head)).mean()\n",
    "print(\"Mean Squared Error: \",MSE)"
   ]
  },
  {
   "cell_type": "code",
   "execution_count": null,
   "id": "7652b23b",
   "metadata": {},
   "outputs": [],
   "source": []
  }
 ],
 "metadata": {
  "kernelspec": {
   "display_name": "Python 3 (ipykernel)",
   "language": "python",
   "name": "python3"
  },
  "language_info": {
   "codemirror_mode": {
    "name": "ipython",
    "version": 3
   },
   "file_extension": ".py",
   "mimetype": "text/x-python",
   "name": "python",
   "nbconvert_exporter": "python",
   "pygments_lexer": "ipython3",
   "version": "3.6.4"
  }
 },
 "nbformat": 4,
 "nbformat_minor": 5
}
